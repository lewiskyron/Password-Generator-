{
 "cells": [
  {
   "cell_type": "code",
   "execution_count": 1,
   "metadata": {},
   "outputs": [
    {
     "name": "stdout",
     "output_type": "stream",
     "text": [
      "Welcome to the PyPassword generator!\n",
      "['6', 'A', 'U', 'v', 'I', '&', '(']\n",
      "['I', 'I', '6', 'v', 'I', '(', 'v']\n",
      "Your new password is:\n",
      "II6vI(v\n"
     ]
    }
   ],
   "source": [
    "#Password Generator \n",
    "print(\"Welcome to the PyPassword generator!\")\n",
    "num_letters= int(input(\"How many letters would you like in your password?\"))\n",
    "num_symbols= int(input(\"How many symbols would you like in your password?\"))\n",
    "num_numbers = int(input(\"How many numbers would you like in your password?\"))\n",
    "\n",
    "\n",
    "import random\n",
    "letters = ['a', 'b', 'c', 'd', 'e', 'f', 'g', 'h', 'i', 'j', 'k', 'l', 'm', 'n', 'o', 'p', 'q', 'r', 's', 't', 'u', 'v', 'w', 'x', 'y', 'z', 'A', 'B', 'C', 'D', 'E', 'F', 'G', 'H', 'I', 'J', 'K', 'L', 'M', 'N', 'O', 'P', 'Q', 'R', 'S', 'T', 'U', 'V', 'W', 'X', 'Y', 'Z']\n",
    "numbers = ['0', '1', '2', '3', '4', '5', '6', '7', '8', '9']\n",
    "symbols = ['!', '#', '$', '%', '&', '(', ')', '*', '+']\n",
    "\n",
    "random_letters =[]\n",
    "for i in range(num_letters):\n",
    "    random_letters += random.choice(letters)\n",
    "\n",
    "random_symbols = []\n",
    "for i in range(num_symbols):\n",
    "    random_symbols += random.choice(symbols)\n",
    "\n",
    "random_numbers = []\n",
    "for i in range(num_numbers):\n",
    "    random_numbers += random.choice(numbers)\n",
    "\n",
    "\n",
    "combo =(random_numbers + random_letters + random_symbols)\n",
    "print(combo)\n",
    "combo_len = len(combo)\n",
    "\n",
    "password = []\n",
    "for i in range(combo_len):\n",
    "    password += random.choice(combo)\n",
    "print(password)\n",
    "\n",
    "final_password = [''.join(password[0:combo_len])]\n",
    "\n",
    "print(\"Your new password is:\")\n",
    "print(*final_password)\n",
    "\n",
    "\n",
    "\n",
    "\n",
    "\n"
   ]
  }
 ],
 "metadata": {
  "interpreter": {
   "hash": "1819d2b1872bb89daf36b429382bc186d3b42382d9e6d88b1d18def11bc4b7ec"
  },
  "kernelspec": {
   "display_name": "Python 3.9.4 64-bit",
   "language": "python",
   "name": "python3"
  },
  "language_info": {
   "codemirror_mode": {
    "name": "ipython",
    "version": 3
   },
   "file_extension": ".py",
   "mimetype": "text/x-python",
   "name": "python",
   "nbconvert_exporter": "python",
   "pygments_lexer": "ipython3",
   "version": "3.9.4"
  },
  "orig_nbformat": 4
 },
 "nbformat": 4,
 "nbformat_minor": 2
}
